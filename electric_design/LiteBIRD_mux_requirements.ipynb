{
 "cells": [
  {
   "attachments": {},
   "cell_type": "markdown",
   "id": "d7329f2a-7067-4859-a9da-5cac872d73a1",
   "metadata": {},
   "source": [
    "## LiteBIRD Mux Comb Simulation for Requirements\n",
    "\n",
    "#### Tijmen de Haan -- 2023-08-11"
   ]
  },
  {
   "cell_type": "code",
   "execution_count": 3,
   "id": "98427283-4e9b-4c5b-8f7f-86988d184abc",
   "metadata": {},
   "outputs": [
    {
     "ename": "ModuleNotFoundError",
     "evalue": "No module named 'numba'",
     "output_type": "error",
     "traceback": [
      "\u001b[1;31m---------------------------------------------------------------------------\u001b[0m",
      "\u001b[1;31mModuleNotFoundError\u001b[0m                       Traceback (most recent call last)",
      "\u001b[1;32m<ipython-input-3-1e43ccf8e345>\u001b[0m in \u001b[0;36m<module>\u001b[1;34m\u001b[0m\n\u001b[0;32m      2\u001b[0m \u001b[1;32mimport\u001b[0m \u001b[0mcopy\u001b[0m\u001b[1;33m\u001b[0m\u001b[1;33m\u001b[0m\u001b[0m\n\u001b[0;32m      3\u001b[0m \u001b[1;32mfrom\u001b[0m \u001b[0mmatplotlib\u001b[0m \u001b[1;32mimport\u001b[0m \u001b[0mpyplot\u001b[0m \u001b[1;32mas\u001b[0m \u001b[0mplt\u001b[0m\u001b[1;33m\u001b[0m\u001b[1;33m\u001b[0m\u001b[0m\n\u001b[1;32m----> 4\u001b[1;33m \u001b[1;32mfrom\u001b[0m \u001b[0mnumba\u001b[0m \u001b[1;32mimport\u001b[0m \u001b[0mjit\u001b[0m\u001b[1;33m\u001b[0m\u001b[1;33m\u001b[0m\u001b[0m\n\u001b[0m\u001b[0;32m      5\u001b[0m \u001b[1;32mfrom\u001b[0m \u001b[0mmatplotlib\u001b[0m\u001b[1;33m.\u001b[0m\u001b[0mpatches\u001b[0m \u001b[1;32mimport\u001b[0m \u001b[0mRectangle\u001b[0m\u001b[1;33m\u001b[0m\u001b[1;33m\u001b[0m\u001b[0m\n\u001b[0;32m      6\u001b[0m \u001b[1;32mfrom\u001b[0m \u001b[0mmatplotlib\u001b[0m\u001b[1;33m.\u001b[0m\u001b[0mlines\u001b[0m \u001b[1;32mimport\u001b[0m \u001b[0mLine2D\u001b[0m\u001b[1;33m\u001b[0m\u001b[1;33m\u001b[0m\u001b[0m\n",
      "\u001b[1;31mModuleNotFoundError\u001b[0m: No module named 'numba'"
     ]
    }
   ],
   "source": [
    "import numpy as np\n",
    "import copy\n",
    "from matplotlib import pyplot as plt\n",
    "from numba import jit\n",
    "from matplotlib.patches import Rectangle\n",
    "from matplotlib.lines import Line2D\n",
    "from mpl_toolkits.axes_grid1.inset_locator import inset_axes\n",
    "%matplotlib ipympl"
   ]
  },
  {
   "attachments": {},
   "cell_type": "markdown",
   "id": "f5ff8cf6",
   "metadata": {},
   "source": [
    "Define a bolocomb class that can models a comb of LCR resonators. We will make a few simplifying assumptions. We assume \n",
    " - DAN is working perfectly and we have perfect screening of any impedances in enclosed in the DAN loop.\n",
    " - each leg of the comb contains a simple LCR. All of the R is assumed to to be on the TES island. \n",
    " - This comb of LCRs is in parallel with a resistor and capacitor which are a simplified model for all other current paths.\n",
    " - This combination is in series with some common series inductance and resistance.\n",
    " - This is biased using a finite bias element which for LiteBIRD is an inductor."
   ]
  },
  {
   "cell_type": "code",
   "execution_count": null,
   "id": "b4ab76ae-a9d2-44d8-a6f7-66b6fdd86d4d",
   "metadata": {},
   "outputs": [],
   "source": [
    "@jit(nopython=True, nogil=True, cache=True)\n",
    "def compute_z_thev(n_LCR, L, base_frequency, Rs, Rbias, Lbias, Ls, Cpar, Rpar, C, R):\n",
    "    fmin = 1.5e6\n",
    "    fmax = 5.6e6\n",
    "    f = np.arange((fmin // base_frequency) * base_frequency, fmax, base_frequency)\n",
    "    f_z_thev_purely_real = np.zeros(n_LCR)\n",
    "    z_thev_optimal = np.zeros(n_LCR, dtype=np.complex64)\n",
    "    z_s_inv = 1./(Rs + Rbias + 2.j * np.pi * f * Lbias + 2.j * np.pi * f * Ls)\n",
    "    z_p_inv = 2.j * np.pi * f * Cpar + 1 / Rpar\n",
    "    z_p_inv_per_leg = 1./(2.j * np.pi * f[:, np.newaxis] * L + R + 1./(2.j * np.pi * f[:, np.newaxis] * C))\n",
    "    for i in range(n_LCR):\n",
    "        this_z_p_inv = z_p_inv.copy()\n",
    "        for j in range(n_LCR):\n",
    "            if i != j:\n",
    "                this_z_p_inv += z_p_inv_per_leg[:, j]\n",
    "        this_z_LC = 2.j * np.pi * f * L + 1./(2.j * np.pi * f * C[i])\n",
    "        this_z_thev = this_z_LC + 1./(z_s_inv + this_z_p_inv)\n",
    "        wh_purely_real = np.argmin(np.abs(np.imag(this_z_thev)))\n",
    "        f_z_thev_purely_real[i] = f[wh_purely_real]\n",
    "        z_thev_optimal[i] = this_z_thev[wh_purely_real]\n",
    "\n",
    "    return z_thev_optimal, f_z_thev_purely_real\n",
    "    \n",
    "class bolocomb:\n",
    "    def __init__(self):\n",
    "        self.L = 60e-6 # Inductance in Henries\n",
    "        self.base_frequency = 20e6/2**18 # Base frequency in Hertz\n",
    "        self.frequency_resolution = 20e6/2**30 # Frequency resolution in Hertz\n",
    "        self.normalization = 100. # Normalization factor (arbitrary units)\n",
    "        self.Rs = 0.005 # Stray series resistance in Ohms\n",
    "        self.Ls = 30e-9 # Stray series inductance in Henries\n",
    "        self.Cpar = 1500e-12 # Equivalent parasitic capacitance parallel to the comb in Farads\n",
    "        self.Rpar = 20. # Equivalent parasitic resistance parallel to the comb in Ohms, 20 Ohms is what we find for the CIMM\n",
    "        self.Rbias = 0. # Bias resistor in Ohms, this is zero for LiteBIRD\n",
    "        self.Lbias = 5 * 1e-9 # Bias inductance in Henries\n",
    "        self.C = np.array([100, 120]) * 1e-12 # LCR parameters for capacitance in Farads\n",
    "        self.R = np.array([1, 1]) # LCR parameters for resistance in Ohms\n",
    "        \n",
    "    @property # property decorator ensures the n_LCR attribute is always up to date\n",
    "    def n_LCR(self):\n",
    "        return len(self.C)\n",
    "    \n",
    "    def admittance(self, f):\n",
    "        jomega = 2.j * np.pi * f # Complex phase\n",
    "        LRstray = self.Rs + jomega * self.Ls # Stray inductance and resistance\n",
    "        LRbias = self.Rbias + jomega * self.Lbias # Bias inductance and resistance\n",
    "        Larr = jomega * self.L # Inductance array\n",
    "        Zinv = jomega * self.Cpar + 1 / self.Rpar # Inverse impedance for parallel components\n",
    "        for C, R in zip(self.C, self.R):\n",
    "            Zinv += 1./(Larr + 1./(jomega * C) + R)\n",
    "        return self.normalization / (1. + (LRstray + 1./Zinv) / LRbias)\n",
    "    \n",
    "    def z_thev(self):\n",
    "        return compute_z_thev(\n",
    "            self.n_LCR, self.L, self.base_frequency, self.Rs, self.Rbias,\n",
    "            self.Lbias, self.Ls, self.Cpar, self.Rpar, self.C, self.R)\n",
    "    \n",
    "    def xtalk(self):\n",
    "        _,bias_freqs = self.z_thev()\n",
    "        n_nearest_neighbor = self.n_LCR - 1\n",
    "        nearest_neighbor_xtalk = np.zeros(n_nearest_neighbor, dtype=np.complex64)\n",
    "        delta_R = 1e-3 # finite difference based on a 1 milliohm change\n",
    "        for i in range(n_nearest_neighbor):\n",
    "            this_frequency = bias_freqs[i]\n",
    "            j = i+1\n",
    "            Y_0 = self.admittance(this_frequency)\n",
    "            self.R[i] += delta_R\n",
    "            Y_i = self.admittance(this_frequency)\n",
    "            self.R[i] -= delta_R\n",
    "            self.R[j] += delta_R\n",
    "            Y_j = self.admittance(this_frequency)\n",
    "            self.R[j] -= delta_R\n",
    "            nearest_neighbor_xtalk[i] = (Y_j-Y_0)/(Y_i-Y_0)\n",
    "        return nearest_neighbor_xtalk"
   ]
  },
  {
   "attachments": {},
   "cell_type": "markdown",
   "id": "75fba569-e730-49b5-9670-dbd527b04269",
   "metadata": {},
   "source": [
    "### Test the code by plotting up the default network analysis and printing the Thévenin equivalent impedances"
   ]
  },
  {
   "cell_type": "code",
   "execution_count": null,
   "id": "5c7c5959-0b76-432e-b93e-640c2ed314fd",
   "metadata": {},
   "outputs": [],
   "source": [
    "comb = bolocomb()\n",
    "f = np.linspace(1e6,6e6,1000)\n",
    "Y = comb.admittance(f)\n",
    "\n",
    "plt.figure(figsize=(10,2))\n",
    "plt.plot(f/1e6, np.abs(Y), label='Example bolocomb')\n",
    "plt.xlabel('Frequency (MHz)')\n",
    "plt.ylabel('Admittance (arb.)')\n",
    "plt.legend()\n",
    "plt.grid(True)\n",
    "plt.tight_layout()\n",
    "plt.show()\n",
    "\n",
    "print(\"There are {} peaks. Their Thévenin-equivalent impedances are {} Ohms.\".format(comb.n_LCR, comb.z_thev()[0]))"
   ]
  },
  {
   "attachments": {},
   "cell_type": "markdown",
   "id": "05115ac2-d682-4663-acf2-b4e079d1806b",
   "metadata": {},
   "source": [
    "### Build 68x combs in the uniformly spaced case and log-uniform case"
   ]
  },
  {
   "cell_type": "code",
   "execution_count": null,
   "id": "7510fcd0-daa8-4f9c-a519-14eb2ddcd2d9",
   "metadata": {},
   "outputs": [],
   "source": [
    "# Create two instances of the bolocomb class\n",
    "bolocomb1 = bolocomb() # uniform spacing\n",
    "bolocomb2 = bolocomb() # log-uniform spacing\n",
    "\n",
    "# Number of LCR legs in the comb\n",
    "num_legs = 68\n",
    "\n",
    "# Resistance values for both instances\n",
    "R = 0.7 # all resistance values around 0.7 Ohms\n",
    "R_values = np.ones(num_legs)*R\n",
    "R_values += np.random.normal(0, 0.1, num_legs) * R # 100 mOhm scatter in R\n",
    "\n",
    "# Inductance value (from the bolocomb class)\n",
    "L_value = bolocomb1.L\n",
    "\n",
    "# For the first instance, create LCR legs uniformly distributed between 1.6 and 5.5 MHz\n",
    "frequencies_uniform = np.linspace(1.6e6, 5.5e6, num_legs) + np.random.uniform(-5e3, 5e3, num_legs) # +/- 5 kHz scatter\n",
    "C_values_uniform = 1 / ((2 * np.pi * frequencies_uniform) ** 2 * L_value)\n",
    "bolocomb1.C = C_values_uniform\n",
    "bolocomb1.R = R_values\n",
    "\n",
    "# For the second instance, create LCR legs uniformly distributed in log frequency between 1.6 and 5.5 MHz\n",
    "frequencies_log = np.logspace(np.log10(1.6e6), np.log10(5.5e6), num_legs) + np.random.uniform(-5e3, 5e3, num_legs) # +/- 5 kHz scatter\n",
    "C_values_log = 1 / ((2 * np.pi * frequencies_log) ** 2 * L_value)\n",
    "bolocomb2.C = C_values_log\n",
    "bolocomb2.R = R_values"
   ]
  },
  {
   "attachments": {},
   "cell_type": "markdown",
   "id": "c0b40409",
   "metadata": {},
   "source": [
    "#### Visualize their network analysis (admittance as a function of frequency)"
   ]
  },
  {
   "cell_type": "code",
   "execution_count": null,
   "id": "9e824049-cdaa-40cc-87d1-c01f29353f18",
   "metadata": {},
   "outputs": [],
   "source": [
    "# Define a range of frequencies for which to calculate the admittance\n",
    "frequencies = np.linspace(1e6, 6e6, 10000)\n",
    "\n",
    "# Calculate the admittance for both combs over the frequency range\n",
    "admittance1 = bolocomb1.admittance(frequencies)\n",
    "admittance2 = bolocomb2.admittance(frequencies)\n",
    "\n",
    "plt.figure(figsize=(10,5))\n",
    "plt.plot(frequencies/1e6, np.abs(admittance1), label='Comb with uniform spacing')\n",
    "plt.plot(frequencies/1e6, np.abs(admittance2), label='Comb with log-uniform spacing')\n",
    "plt.xlabel('Frequency (MHz)')\n",
    "plt.ylabel('Admittance (arb.)')\n",
    "plt.legend()\n",
    "plt.grid(True)\n",
    "plt.tight_layout()\n",
    "plt.show()"
   ]
  },
  {
   "cell_type": "code",
   "execution_count": null,
   "id": "34c2b824",
   "metadata": {},
   "outputs": [],
   "source": [
    "_,bias_freqs = bolocomb1.z_thev()"
   ]
  },
  {
   "cell_type": "code",
   "execution_count": null,
   "id": "67e7c3ed",
   "metadata": {},
   "outputs": [],
   "source": [
    "print(f\"There are {len(bias_freqs)} peaks at {np.round(bias_freqs/1e6, 2)} MHz.\")\n",
    "rms_voltage = 0.8e-6\n",
    "inductance = 5e-9\n",
    "currents = rms_voltage/(2*np.pi*bias_freqs*inductance)\n",
    "rms_current = np.sqrt((currents**2).sum())\n",
    "print(f\"The RMS current is {np.round(rms_current*1e6, 2)} uA.\")\n"
   ]
  },
  {
   "cell_type": "code",
   "execution_count": null,
   "id": "09afecda",
   "metadata": {},
   "outputs": [],
   "source": []
  },
  {
   "attachments": {},
   "cell_type": "markdown",
   "id": "340276ff",
   "metadata": {},
   "source": [
    "### Explore uniform vs log-uniform\n",
    "\n",
    "#### SPT-3G\n",
    "\n",
    "For SPT-3G, we chose log-uniform resonator spacing. Let's look at why we made this choice. We will consider a comb which is ideal except for a common series inductance."
   ]
  },
  {
   "cell_type": "code",
   "execution_count": null,
   "id": "885dc3b0",
   "metadata": {},
   "outputs": [],
   "source": [
    "# Create two instances of the bolocomb class\n",
    "idealbolocomb1 = bolocomb() # linear spacing\n",
    "idealbolocomb2 = bolocomb() # log spacing\n",
    "\n",
    "idealbolocomb1.Rpar = idealbolocomb2.Rpar = 1e8 # assume there is basically infinite parallel resistance\n",
    "idealbolocomb1.Cpar = idealbolocomb2.Cpar = 0e-12 # no parallel capacitance\n",
    "idealbolocomb1.Rs = idealbolocomb2.Rs = 0 # no common series resistance\n",
    "idealbolocomb1.Ls = idealbolocomb2.Ls = 100e-9 # significant common series inductance\n",
    "idealbolocomb1.Lbias = idealbolocomb2.Lbias = 0.1e-9 # small bias element\n",
    "idealbolocomb1.Rbias = idealbolocomb2.Rbias = 0.0\n",
    "\n",
    "# Number of LCR legs in the comb\n",
    "num_legs = 68\n",
    "\n",
    "# Resistance values for both instances\n",
    "R = 2 # all resistance values around 0.5 Ohms\n",
    "R_values = np.ones(num_legs)*R # no scatter in R\n",
    "\n",
    "# Inductance value (from the bolocomb class)\n",
    "L_value = bolocomb1.L\n",
    "\n",
    "# For the first instance, create LCR legs uniformly distributed between 1.6 and 5.5 MHz\n",
    "frequencies_uniform = np.linspace(1.6e6, 5.5e6, num_legs) # no scatter in frequency\n",
    "C_values_uniform = 1 / ((2 * np.pi * frequencies_uniform) ** 2 * L_value)\n",
    "idealbolocomb1.C = C_values_uniform\n",
    "idealbolocomb1.R = R_values\n",
    "\n",
    "# For the second instance, create LCR legs uniformly distributed in log frequency between 1.6 and 5.5 MHz\n",
    "frequencies_log = np.logspace(np.log10(1.6e6), np.log10(5.5e6), num_legs) # no scatter in frequency\n",
    "C_values_log = 1 / ((2 * np.pi * frequencies_log) ** 2 * L_value)\n",
    "idealbolocomb2.C = C_values_log\n",
    "idealbolocomb2.R = R_values\n",
    "\n",
    "z_thev1,_ = idealbolocomb1.z_thev()\n",
    "z_thev2,_ = idealbolocomb2.z_thev()\n",
    "xtalk1 = idealbolocomb1.xtalk()\n",
    "xtalk2 = idealbolocomb2.xtalk()"
   ]
  },
  {
   "cell_type": "code",
   "execution_count": null,
   "id": "3ecc02ee",
   "metadata": {},
   "outputs": [],
   "source": [
    "fig, axs = plt.subplots(1, 2, figsize=(10, 5))\n",
    "axs[0].plot(frequencies_uniform/1e6, np.real(z_thev1), label='Uniform spacing')\n",
    "axs[0].plot(frequencies_uniform/1e6, np.real(z_thev2), label='Log-uniform spacing')\n",
    "axs[0].set_xlabel('Frequency (MHz)')\n",
    "axs[0].set_ylabel('Thévenin-equivalent series impedance ($\\Omega$)')\n",
    "axs[0].legend()\n",
    "#axs[0].text(0.4, 0.8, 'uniform gives higher Thévenin-equivalent \\n series impedance at high frequency', color='red', ha='center', va='center', transform=axs[0].transAxes)\n",
    "axs[1].plot(frequencies_uniform[0:-1]/1e6, np.real(xtalk1), label='Uniform spacing')\n",
    "axs[1].plot(frequencies_uniform[0:-1]/1e6, np.real(xtalk2), label='Log-uniform spacing')\n",
    "axs[1].set_xlabel('Frequency (MHz)')\n",
    "axs[1].legend()\n",
    "axs[1].set_ylabel('Crosstalk')\n",
    "#axs[1].text(0.3, 0.7, 'log-uniform more prone to \\n collisions at low frequency', color='red', ha='center', va='center', transform=axs[1].transAxes)\n",
    "fig.suptitle('Idealized SPT-3G comb with $L_s$ as only parasitic')\n",
    "fig.tight_layout()"
   ]
  },
  {
   "attachments": {},
   "cell_type": "markdown",
   "id": "a9527a21",
   "metadata": {},
   "source": [
    "For SPT-3G, we were more worried about bolometer stability at high mux frequencies, as this was the less-familiar region of parameter space. As the log-uniform spacing has lower Thévenin equivalent series impedance there due to the larger channel spacing, we chose this log-uniform spacing."
   ]
  },
  {
   "attachments": {},
   "cell_type": "markdown",
   "id": "21b1fdb1",
   "metadata": {},
   "source": [
    "#### LiteBIRD-like comb\n",
    "\n",
    "LiteBIRD has somewhat tighter noise requirements (~8 pA/rtHz as opposed to ~12 pA/rtHz), so a lower operating resistance is required. Also, thanks to the sub-Kelvin SQUID implementation, we can have less common series inductance."
   ]
  },
  {
   "cell_type": "code",
   "execution_count": null,
   "id": "cc88122e",
   "metadata": {},
   "outputs": [],
   "source": [
    "z_thev1,_ = bolocomb1.z_thev()\n",
    "z_thev2,_ = bolocomb2.z_thev()\n",
    "xtalk1 = bolocomb1.xtalk()\n",
    "xtalk2 = bolocomb2.xtalk()"
   ]
  },
  {
   "cell_type": "code",
   "execution_count": null,
   "id": "56b757a8",
   "metadata": {},
   "outputs": [],
   "source": [
    "fig, axs = plt.subplots(1, 2, figsize=(10, 5))\n",
    "axs[0].plot(frequencies_uniform/1e6, np.real(z_thev1), label='Uniform spacing')\n",
    "axs[0].plot(frequencies_uniform/1e6, np.real(z_thev2), label='Log-uniform spacing')\n",
    "axs[0].set_xlabel('Frequency (MHz)')\n",
    "axs[0].set_ylabel('Thévenin-equivalent series impedance ($\\Omega$)')\n",
    "axs[0].legend()\n",
    "# axs[0].text(0.4, 0.8, 'uniform gives higher Thévenin-equivalent \\n series impedance at high frequency', color='red', ha='center', va='center', transform=axs[0].transAxes)\n",
    "axs[1].plot(frequencies_uniform[0:-1]/1e6, np.real(xtalk1), label='Uniform spacing')\n",
    "axs[1].plot(frequencies_uniform[0:-1]/1e6, np.real(xtalk2), label='Log-uniform spacing')\n",
    "axs[1].set_xlabel('Frequency (MHz)')\n",
    "axs[1].legend()\n",
    "axs[1].set_ylabel('Nearest-neighbor Crosstalk')\n",
    "# axs[1].text(0.03, 0.8, 'log-uniform more prone to frequency \\n scatter at low frequency', color='red', ha='left', va='center', transform=axs[1].transAxes)\n",
    "fig.suptitle('More realistic LiteBIRD comb with parasitics')\n",
    "fig.tight_layout()"
   ]
  },
  {
   "attachments": {},
   "cell_type": "markdown",
   "id": "b9106bd0",
   "metadata": {},
   "source": [
    "For this choice of parameters, there isn't very much difference between the two choices. One notable difference is that if there is a fixed scatter of resonant frequencies, the tighter channel spacing at low frequency in the case of log-uniform spacing means that the crosstalk has outliers for channels that happen to scatter closer together."
   ]
  },
  {
   "attachments": {},
   "cell_type": "markdown",
   "id": "511109c3",
   "metadata": {},
   "source": [
    "## Common series inductance $L_s$ requirement\n",
    "\n",
    "We want to know what the maximum allowable common series inductance is. Let's calculate this in two ways.\n",
    "\n",
    "### $L_s$ requirement from Thévenin-equivalent series impedance\n",
    "\n",
    "In order to calculate the first requirement on the common series inductance, we model the comb for a range of values of $L_s$ and calculate the Thévenin-equivalent series impedance at the optimal bias frequency. We then compare this to the target of 10% of $R_\\mathrm{normal}$ and calculate at what $L_s$ that occurs in order to derive a requirement."
   ]
  },
  {
   "cell_type": "code",
   "execution_count": null,
   "id": "35443200",
   "metadata": {},
   "outputs": [],
   "source": [
    "original_Ls1 = bolocomb1.Ls\n",
    "original_Ls2 = bolocomb2.Ls\n",
    "Ls_values = np.linspace(1e-9, 60e-9, 12)  # Range of Ls values\n",
    "Rthev_target = 0.05 # 50 mOhm target\n",
    "\n",
    "z_thev_max_values1 = np.zeros(len(Ls_values), dtype=np.complex64) # Maximum Thévenin-equivalent impedance in bolocomb1\n",
    "z_thev_max_values2 = np.zeros(len(Ls_values), dtype=np.complex64) # Maximum Thévenin-equivalent impedance in bolocomb2\n",
    "for i, Ls in enumerate(Ls_values):\n",
    "    bolocomb1.Ls = Ls\n",
    "    z,_ = bolocomb1.z_thev()\n",
    "    wh_max = np.argmax(np.abs(z))\n",
    "    z_thev_max_values1[i] = z[wh_max]\n",
    "    bolocomb2.Ls = Ls\n",
    "    z,_ = bolocomb2.z_thev()\n",
    "    wh_max = np.argmax(np.abs(z))\n",
    "    z_thev_max_values2[i] = z[wh_max]\n",
    "bolocomb1.Ls = original_Ls1\n",
    "bolocomb2.Ls = original_Ls2\n"
   ]
  },
  {
   "cell_type": "code",
   "execution_count": null,
   "id": "2b2f0a21",
   "metadata": {},
   "outputs": [
    {
     "ename": "NameError",
     "evalue": "name 'Ls_values' is not defined",
     "output_type": "error",
     "traceback": [
      "\u001b[1;31m---------------------------------------------------------------------------\u001b[0m",
      "\u001b[1;31mNameError\u001b[0m                                 Traceback (most recent call last)",
      "\u001b[1;32m<ipython-input-2-26e321a1caef>\u001b[0m in \u001b[0;36m<module>\u001b[1;34m\u001b[0m\n\u001b[0;32m      1\u001b[0m \u001b[0mfig\u001b[0m\u001b[1;33m,\u001b[0m \u001b[0max\u001b[0m \u001b[1;33m=\u001b[0m \u001b[0mplt\u001b[0m\u001b[1;33m.\u001b[0m\u001b[0msubplots\u001b[0m\u001b[1;33m(\u001b[0m\u001b[0mfigsize\u001b[0m\u001b[1;33m=\u001b[0m\u001b[1;33m(\u001b[0m\u001b[1;36m10\u001b[0m\u001b[1;33m,\u001b[0m \u001b[1;36m4\u001b[0m\u001b[1;33m)\u001b[0m\u001b[1;33m)\u001b[0m\u001b[1;33m\u001b[0m\u001b[1;33m\u001b[0m\u001b[0m\n\u001b[1;32m----> 2\u001b[1;33m \u001b[0max\u001b[0m\u001b[1;33m.\u001b[0m\u001b[0mplot\u001b[0m\u001b[1;33m(\u001b[0m\u001b[0mLs_values\u001b[0m\u001b[1;33m*\u001b[0m\u001b[1;36m1e9\u001b[0m\u001b[1;33m,\u001b[0m \u001b[0mnp\u001b[0m\u001b[1;33m.\u001b[0m\u001b[0mabs\u001b[0m\u001b[1;33m(\u001b[0m\u001b[0mz_thev_max_values1\u001b[0m\u001b[1;33m)\u001b[0m\u001b[1;33m,\u001b[0m \u001b[0mlabel\u001b[0m\u001b[1;33m=\u001b[0m\u001b[1;34m'Uniform spacing'\u001b[0m\u001b[1;33m)\u001b[0m\u001b[1;33m\u001b[0m\u001b[1;33m\u001b[0m\u001b[0m\n\u001b[0m\u001b[0;32m      3\u001b[0m \u001b[0max\u001b[0m\u001b[1;33m.\u001b[0m\u001b[0mplot\u001b[0m\u001b[1;33m(\u001b[0m\u001b[0mLs_values\u001b[0m\u001b[1;33m*\u001b[0m\u001b[1;36m1e9\u001b[0m\u001b[1;33m,\u001b[0m \u001b[0mnp\u001b[0m\u001b[1;33m.\u001b[0m\u001b[0mabs\u001b[0m\u001b[1;33m(\u001b[0m\u001b[0mz_thev_max_values2\u001b[0m\u001b[1;33m)\u001b[0m\u001b[1;33m,\u001b[0m \u001b[0mlabel\u001b[0m\u001b[1;33m=\u001b[0m\u001b[1;34m'Log-uniform spacing'\u001b[0m\u001b[1;33m)\u001b[0m\u001b[1;33m\u001b[0m\u001b[1;33m\u001b[0m\u001b[0m\n\u001b[0;32m      4\u001b[0m \u001b[0max\u001b[0m\u001b[1;33m.\u001b[0m\u001b[0mplot\u001b[0m\u001b[1;33m(\u001b[0m\u001b[0mLs_values\u001b[0m\u001b[1;33m*\u001b[0m\u001b[1;36m1e9\u001b[0m\u001b[1;33m,\u001b[0m \u001b[0mnp\u001b[0m\u001b[1;33m.\u001b[0m\u001b[0mones_like\u001b[0m\u001b[1;33m(\u001b[0m\u001b[0mLs_values\u001b[0m\u001b[1;33m)\u001b[0m\u001b[1;33m*\u001b[0m\u001b[0mRthev_target\u001b[0m\u001b[1;33m,\u001b[0m \u001b[0mlabel\u001b[0m\u001b[1;33m=\u001b[0m\u001b[1;34m'Target'\u001b[0m\u001b[1;33m)\u001b[0m\u001b[1;33m\u001b[0m\u001b[1;33m\u001b[0m\u001b[0m\n\u001b[0;32m      5\u001b[0m \u001b[0max\u001b[0m\u001b[1;33m.\u001b[0m\u001b[0mset_ylim\u001b[0m\u001b[1;33m(\u001b[0m\u001b[0mbottom\u001b[0m\u001b[1;33m=\u001b[0m\u001b[1;36m0\u001b[0m\u001b[1;33m)\u001b[0m\u001b[1;33m\u001b[0m\u001b[1;33m\u001b[0m\u001b[0m\n",
      "\u001b[1;31mNameError\u001b[0m: name 'Ls_values' is not defined"
     ]
    },
    {
     "data": {
      "image/png": "[encoded data removed]",
      "text/plain": [
       "<Figure size 720x288 with 1 Axes>"
      ]
     },
     "metadata": {
      "needs_background": "light"
     },
     "output_type": "display_data"
    }
   ],
   "source": [
    "fig, ax = plt.subplots(figsize=(10, 4))\n",
    "ax.plot(Ls_values*1e9, np.abs(z_thev_max_values1), label='Uniform spacing')\n",
    "ax.plot(Ls_values*1e9, np.abs(z_thev_max_values2), label='Log-uniform spacing')\n",
    "ax.plot(Ls_values*1e9, np.ones_like(Ls_values)*Rthev_target, label='Target')\n",
    "ax.set_ylim(bottom=0)\n",
    "ax.set_xlim(left=0)\n",
    "ax.set_xlabel('$L_s$ (nH)')\n",
    "ax.set_ylabel('Thévenin-equivalent Impedance ($\\Omega$)')\n",
    "ax.legend()\n",
    "fig.tight_layout()"
   ]
  },
  {
   "attachments": {},
   "cell_type": "markdown",
   "id": "fabaa8bf",
   "metadata": {},
   "source": [
    "The highest Thévenin-equivalent impedance exceeds the target around 20 nH, so that seems like a good upper limit to set based on this."
   ]
  },
  {
   "attachments": {},
   "cell_type": "markdown",
   "id": "494774f5",
   "metadata": {},
   "source": [
    "### $L_s$ requirement from crosstalk\n",
    "\n",
    "We'll calculate some values of nearest-neighbor crosstalk and make sure that the worst-crosstalking neighbors stay below the 0.3% we quoted in PTEP."
   ]
  },
  {
   "cell_type": "code",
   "execution_count": null,
   "id": "2f136215",
   "metadata": {},
   "outputs": [],
   "source": [
    "### Old attempt to use Kolen's code:\n",
    "# import sys\n",
    "# sys.path.insert(0, '/Users/tijmen/litebird_codes/coscon-0.1.1/src') # Kolen's pypi package seems to be broken, so I'm just importing the source code manually\n",
    "# from coscon import util\n",
    "# #from coscon.toast_helper import CrosstalkMatrix\n",
    "# R_TES = 0.6\n",
    "# r_s = 0.3\n",
    "# L = 60e-6\n",
    "# L_com = 9e-9\n",
    "# omega_min = 1.69e6 * (2.0 * np.pi)\n",
    "# omega_max = 5.49e6 * (2.0 * np.pi)\n",
    "# N = 68\n",
    "# names = np.arange(N).astype('S')\n",
    "# name = f'{N} detector crosstalk from SQUID paramters'\n",
    "# omega = np.linspace(omega_min, omega_max, N)\n",
    "# C_n_opt = util.C_n_resonance_exact(R_TES, r_s, L, L_com, omega)\n",
    "# data = util.total_crosstalk_matrix_exact(R_TES, r_s, L, C_n_opt, L_com, omega)\n",
    "# #m = CrosstalkMatrix(names, data, name=name, freq=(omega / (2.0 * np.pi)))\n",
    "# #m.plot()    \n",
    "### I abandoned this as it makes different circuit assumptions, but leaving it here in case it finds use somewhere else"
   ]
  },
  {
   "attachments": {},
   "cell_type": "markdown",
   "id": "e3b60dc6",
   "metadata": {},
   "source": [
    "Crosstalk for some bolometer $i$ is how much current response there is to a change in some other bolometer $j$'s resistance, compared to the response to a change in bolometer $i$'s resistance.\n",
    "\n",
    "$\\mathrm{xtalk}_{ij} = \\frac{\\partial I / \\partial R_j}{\\partial I / \\partial R_i} = \\frac{\\partial Y / \\partial R_j}{\\partial Y / \\partial R_i}$\n",
    "\n",
    "Let's calculate this explicitly using a finite difference method."
   ]
  },
  {
   "cell_type": "code",
   "execution_count": null,
   "id": "2946a582",
   "metadata": {},
   "outputs": [],
   "source": [
    "original_Ls1 = bolocomb1.Ls\n",
    "original_Ls2 = bolocomb2.Ls\n",
    "Ls_values = np.linspace(1e-9, 100e-9, 12)  # Range of Ls values\n",
    "xtalk_target = 0.003 # Target of 0.3% as in PTEP\n",
    "\n",
    "xtalk_max_values1 = np.zeros(len(Ls_values)) # In-phase component of highest-amplitude xtalk bolocomb1\n",
    "xtalk_max_values2 = np.zeros(len(Ls_values)) # In-phase component of highest-amplitude xtalk bolocomb2\n",
    "for i, Ls in enumerate(Ls_values):\n",
    "    bolocomb1.Ls = Ls\n",
    "    xtalk = bolocomb1.xtalk()\n",
    "    whmax = np.argmax(np.abs(np.real(xtalk)))\n",
    "    xtalk_max_values1[i] = np.real(xtalk[whmax])\n",
    "    bolocomb2.Ls = Ls\n",
    "    xtalk = bolocomb2.xtalk()\n",
    "    whmax = np.argmax(np.abs(np.real(xtalk)))\n",
    "    xtalk_max_values2[i] = np.real(xtalk[whmax])\n",
    "bolocomb1.Ls = original_Ls1\n",
    "bolocomb2.Ls = original_Ls2"
   ]
  },
  {
   "cell_type": "code",
   "execution_count": null,
   "id": "e7655479",
   "metadata": {},
   "outputs": [],
   "source": [
    "fig, ax = plt.subplots(figsize=(10, 4))\n",
    "ax.plot(Ls_values*1e9, xtalk_max_values1, label='Uniform spacing')\n",
    "ax.plot(Ls_values*1e9, xtalk_max_values2, label='Log-uniform spacing')\n",
    "ax.plot(Ls_values*1e9, np.ones_like(Ls_values)*xtalk_target, 'green', label='Target')\n",
    "ax.plot(Ls_values*1e9, np.ones_like(Ls_values)*xtalk_target*-1, 'green')\n",
    "ax.set_xlabel('$L_s$ (nH)')\n",
    "ax.set_ylabel('In-phase crosstalk')\n",
    "ax.legend()\n",
    "fig.tight_layout()"
   ]
  },
  {
   "attachments": {},
   "cell_type": "markdown",
   "id": "a617eaea",
   "metadata": {},
   "source": [
    "The total crosstalk has two terms which have different phases (See Montgomery et al. 2020 for more details). The vector sum is such that lower common series inductance is not necessarily better for crosstalk. From this, it seems that in order to meet the crosstalk requirement, we should stay below about 60 nH. "
   ]
  },
  {
   "attachments": {},
   "cell_type": "markdown",
   "id": "ab96d916",
   "metadata": {},
   "source": [
    "## Conclusions and caveats\n",
    "\n",
    "I looked at a LiteBIRD-like DfMux comb using analytic expressions and numerical calculations. For this set of assumptions, I find that up to about 20 nH of common series inductance could be tolerated. This number is driven more strongly by concerns about the integrity of the voltage bias than by crosstalk concerns.\n",
    "\n",
    "One caveat is that this conclusion holds fixed many of the unknown parameters of the LiteBIRD DfMux comb, and makes simplifying assumptions about the circuit. I recommend reserving significant contingency and designing for less than 20 nH at this stage of the design."
   ]
  },
  {
   "attachments": {},
   "cell_type": "markdown",
   "id": "4888d0e8",
   "metadata": {},
   "source": [
    "## Appendix\n",
    "\n",
    "### Debugging / visualization"
   ]
  },
  {
   "cell_type": "code",
   "execution_count": null,
   "id": "04e3a25a-dd03-4159-a494-bf42cbd714c9",
   "metadata": {},
   "outputs": [],
   "source": [
    "(n_LCR, L, base_frequency, Rs, Rbias, Lbias, Ls, Cpar, Rpar, C, R) = (bolocomb1.n_LCR, bolocomb1.L, bolocomb1.base_frequency, bolocomb1.Rs, bolocomb1.Rbias, bolocomb1.Lbias, bolocomb1.Ls, bolocomb1.Cpar, bolocomb1.Rpar, bolocomb1.C, bolocomb1.R)\n",
    "base_frequency=10 # just for debugging plots, run at finer resolution\n",
    "Ls = 100e-9 # better illustration of \"tuning out\"\n",
    "fmin = 1.5e6\n",
    "fmax = 5.6e6\n",
    "f = np.arange((fmin // base_frequency) * base_frequency, fmax, base_frequency)\n",
    "f_z_thev_purely_real = np.zeros(n_LCR)\n",
    "z_thev_optimal = np.zeros(n_LCR, dtype=np.complex64)\n",
    "z_s_inv = 1./(Rs + Rbias + 2.j * np.pi * f * Lbias + 2.j * np.pi * f * Ls)\n",
    "z_p_inv = 2.j * np.pi * f * Cpar + 1 / Rpar\n",
    "z_p_inv_per_leg = 1./(2.j * np.pi * f[:, np.newaxis] * L + R + 1./(2.j * np.pi * f[:, np.newaxis] * C))\n",
    "\n",
    "for i in range(n_LCR):\n",
    "    this_z_p_inv = z_p_inv.copy()\n",
    "    for j in range(n_LCR):\n",
    "        if i != j:\n",
    "            this_z_p_inv += z_p_inv_per_leg[:, j]\n",
    "    this_z_LC = 2.j * np.pi * f * L + 1./(2.j * np.pi * f * C[i])\n",
    "    this_z_thev = this_z_LC + 1./(z_s_inv + this_z_p_inv)\n",
    "    wh_purely_real = np.argmin(np.abs(np.imag(this_z_thev)))\n",
    "    z_thev_optimal[i] = this_z_thev[wh_purely_real]"
   ]
  },
  {
   "cell_type": "code",
   "execution_count": null,
   "id": "c92dc977-d2eb-4e95-a08d-5e3dd340c0b4",
   "metadata": {},
   "outputs": [],
   "source": [
    "i = 65\n",
    "this_z_p_inv = z_p_inv.copy()\n",
    "for j in range(n_LCR):\n",
    "    if i != j:\n",
    "        this_z_p_inv += z_p_inv_per_leg[:, j]\n",
    "this_z_LC = 2.j * np.pi * f * L + 1./(2.j * np.pi * f * C[i])\n",
    "this_z_thev = this_z_LC + 1./(z_s_inv + this_z_p_inv)\n",
    "wh_purely_real = np.argmin(np.abs(np.imag(this_z_thev)))\n",
    "z_thev_optimal[i] = this_z_thev[wh_purely_real]"
   ]
  },
  {
   "cell_type": "code",
   "execution_count": null,
   "id": "ee74bc0b-1e55-443f-971f-fd781fc65794",
   "metadata": {},
   "outputs": [],
   "source": [
    "fig, ax = plt.subplots(figsize=(10, 5))\n",
    "\n",
    "colors = ['b', 'g', 'r', 'c', 'm']\n",
    "\n",
    "# Main plot\n",
    "ax.plot(f/1e6, np.abs(1./this_z_p_inv), '-', color=colors[0], label='$\\mathrm{z_p}$')\n",
    "ax.plot(f/1e6, np.abs(1./z_s_inv), '-', color=colors[1], label='$\\mathrm{z_s}$')\n",
    "ax.plot(f/1e6, np.abs(1./(z_s_inv + this_z_p_inv)), '-', color=colors[2], label='$\\mathrm{z_s||z_p}$')\n",
    "ax.plot(f/1e6, np.abs(this_z_LC), '-', color=colors[3], label='$\\mathrm{z_{LC}}$')\n",
    "ax.plot(f/1e6, np.abs(this_z_thev), '-', color=colors[4], label='$\\mathrm{z_{Thév} = z_{LC} + z_s||z_p}$', linewidth=2)\n",
    "ax.plot(f/1e6, np.real(1./this_z_p_inv), '--', color=colors[0])\n",
    "ax.plot(f/1e6, np.real(1./z_s_inv), '--', color=colors[1])\n",
    "ax.plot(f/1e6, np.real(1./(z_s_inv + this_z_p_inv)), '--', color=colors[2])\n",
    "ax.plot(f/1e6, np.real(this_z_LC), '--', color=colors[3])\n",
    "ax.plot(f/1e6, np.real(this_z_thev), '--', color=colors[4])\n",
    "ax.plot(f/1e6, np.imag(1./this_z_p_inv), ':', color=colors[0])\n",
    "ax.plot(f/1e6, np.imag(1./z_s_inv), ':', color=colors[1])\n",
    "ax.plot(f/1e6, np.imag(1./(z_s_inv + this_z_p_inv)), ':', color=colors[2])\n",
    "ax.plot(f/1e6, np.imag(this_z_LC), ':', color=colors[3])\n",
    "ax.plot(f/1e6, np.imag(this_z_thev), ':', color=colors[4])\n",
    "\n",
    "ax.set_ylim([0.05, 100])\n",
    "ax.set_xlim([5.3, 5.5])\n",
    "ax.set_xlabel('Frequency (MHz)')\n",
    "ax.set_ylabel('Impedance ($\\Omega$)')\n",
    "ax.set_yscale('log')\n",
    "ax.set_title('High-parasitic comb, uniform spacing: absolute (solid), real (dashed) and imaginary (dotted) parts', fontsize=10)\n",
    "\n",
    "# Move the legend to the right-hand side\n",
    "legend = ax.legend(loc='center left', bbox_to_anchor=(1, 0.5))\n",
    "plt.tight_layout()\n",
    "plt.savefig('dfmux_comb_sim.pdf')\n",
    "plt.savefig('dfmux_comb_sim.png', dpi=300)\n",
    "\n",
    "plt.show()"
   ]
  },
  {
   "cell_type": "code",
   "execution_count": null,
   "id": "472ffe5f",
   "metadata": {},
   "outputs": [],
   "source": [
    "(n_LCR, L, base_frequency, Rs, Rbias, Lbias, Ls, Cpar, Rpar, C, R) = (bolocomb2.n_LCR, bolocomb2.L, bolocomb2.base_frequency, bolocomb2.Rs, bolocomb2.Rbias, bolocomb2.Lbias, bolocomb2.Ls, bolocomb2.Cpar, bolocomb2.Rpar, bolocomb2.C, bolocomb2.R)\n",
    "base_frequency=10 # just for debugging plots, run at finer resolution\n",
    "Ls = 100e-9 # better illustration of \"tuning out\"\n",
    "fmin = 1.5e6\n",
    "fmax = 5.6e6\n",
    "f = np.arange((fmin // base_frequency) * base_frequency, fmax, base_frequency)\n",
    "f_z_thev_purely_real = np.zeros(n_LCR)\n",
    "z_thev_optimal = np.zeros(n_LCR, dtype=np.complex64)\n",
    "z_s_inv = 1./(Rs + Rbias + 2.j * np.pi * f * Lbias + 2.j * np.pi * f * Ls)\n",
    "z_p_inv = 2.j * np.pi * f * Cpar + 1 / Rpar\n",
    "z_p_inv_per_leg = 1./(2.j * np.pi * f[:, np.newaxis] * L + R + 1./(2.j * np.pi * f[:, np.newaxis] * C))\n",
    "\n",
    "for i in range(n_LCR):\n",
    "    this_z_p_inv = z_p_inv.copy()\n",
    "    for j in range(n_LCR):\n",
    "        if i != j:\n",
    "            this_z_p_inv += z_p_inv_per_leg[:, j]\n",
    "    this_z_LC = 2.j * np.pi * f * L + 1./(2.j * np.pi * f * C[i])\n",
    "    this_z_thev = this_z_LC + 1./(z_s_inv + this_z_p_inv)\n",
    "    wh_purely_real = np.argmin(np.abs(np.imag(this_z_thev)))\n",
    "    z_thev_optimal[i] = this_z_thev[wh_purely_real]"
   ]
  },
  {
   "cell_type": "code",
   "execution_count": null,
   "id": "6993b60e",
   "metadata": {},
   "outputs": [],
   "source": [
    "i = 65\n",
    "this_z_p_inv = z_p_inv.copy()\n",
    "for j in range(n_LCR):\n",
    "    if i != j:\n",
    "        this_z_p_inv += z_p_inv_per_leg[:, j]\n",
    "this_z_LC = 2.j * np.pi * f * L + 1./(2.j * np.pi * f * C[i])\n",
    "this_z_thev = this_z_LC + 1./(z_s_inv + this_z_p_inv)\n",
    "wh_purely_real = np.argmin(np.abs(np.imag(this_z_thev)))\n",
    "z_thev_optimal[i] = this_z_thev[wh_purely_real]"
   ]
  },
  {
   "cell_type": "code",
   "execution_count": null,
   "id": "dcfefeb8",
   "metadata": {},
   "outputs": [],
   "source": [
    "fig, ax = plt.subplots(figsize=(10, 10))\n",
    "\n",
    "colors = ['b', 'g', 'r', 'c', 'm']\n",
    "\n",
    "# Main plot\n",
    "ax.plot(f/1e6, np.abs(1./this_z_p_inv), '-', color=colors[0], label='$\\mathrm{z_p}$')\n",
    "ax.plot(f/1e6, np.abs(1./z_s_inv), '-', color=colors[1], label='$\\mathrm{z_s}$')\n",
    "ax.plot(f/1e6, np.abs(1./(z_s_inv + this_z_p_inv)), '-', color=colors[2], label='$\\mathrm{z_s||z_p}$')\n",
    "ax.plot(f/1e6, np.abs(this_z_LC), '-', color=colors[3], label='$\\mathrm{z_{LC}}$')\n",
    "ax.plot(f/1e6, np.abs(this_z_thev), '-', color=colors[4], label='$\\mathrm{z_{Thév} = z_{LC} + z_s||z_p}$')\n",
    "ax.plot(f/1e6, np.real(1./this_z_p_inv), '--', color=colors[0])\n",
    "ax.plot(f/1e6, np.real(1./z_s_inv), '--', color=colors[1])\n",
    "ax.plot(f/1e6, np.real(1./(z_s_inv + this_z_p_inv)), '--', color=colors[2])\n",
    "ax.plot(f/1e6, np.real(this_z_LC), '--', color=colors[3])\n",
    "ax.plot(f/1e6, np.real(this_z_thev), '--', color=colors[4])\n",
    "ax.plot(f/1e6, np.imag(1./this_z_p_inv), ':', color=colors[0])\n",
    "ax.plot(f/1e6, np.imag(1./z_s_inv), ':', color=colors[1])\n",
    "ax.plot(f/1e6, np.imag(1./(z_s_inv + this_z_p_inv)), ':', color=colors[2])\n",
    "ax.plot(f/1e6, np.imag(this_z_LC), ':', color=colors[3])\n",
    "ax.plot(f/1e6, np.imag(this_z_thev), ':', color=colors[4])\n",
    "\n",
    "ax.set_ylim([-100, 100])\n",
    "ax.set_xlim([5.2, 5.4])\n",
    "ax.set_xlabel('Frequency (MHz)')\n",
    "ax.set_ylabel('Impedance ($\\Omega$)')\n",
    "ax.set_yscale('symlog', linthresh=0.01)\n",
    "ax.set_title('LiteBIRD comb, log-uniform spacing: absolute (solid), real (dashed) and imaginary (dotted) parts', fontsize=10)\n",
    "\n",
    "# Move the legend to the right-hand side\n",
    "legend = ax.legend(loc='center left', bbox_to_anchor=(1, 0.5))\n",
    "fig.tight_layout()\n",
    "plt.savefig('dfmux_comb_sim.pdf')\n",
    "plt.savefig('dfmux_comb_sim.png', dpi=300)\n"
   ]
  },
  {
   "attachments": {},
   "cell_type": "markdown",
   "id": "4f2ec256",
   "metadata": {},
   "source": [
    "### Explore how parameters affect performance"
   ]
  },
  {
   "cell_type": "code",
   "execution_count": null,
   "id": "0fc66244",
   "metadata": {},
   "outputs": [],
   "source": [
    "# Create two instances of the bolocomb class\n",
    "bolocombA = bolocomb() # linear spacing\n",
    "bolocombB = bolocomb() # linear spacing, some parameter modified\n",
    "\n",
    "# Number of LCR legs in the comb\n",
    "num_legs = 68\n",
    "\n",
    "# Resistance values for both instances\n",
    "R = 0.5 # all resistance values around 0.5 Ohms\n",
    "R_values = np.ones(num_legs)*R\n",
    "R_values += np.random.normal(0, 0.1, num_legs) * R # 10% scatter in R\n",
    "\n",
    "# Inductance value (from the bolocomb class)\n",
    "L_value = bolocombA.L\n",
    "\n",
    "# For the first instance, create LCR legs uniformly distributed between 1.6 and 5.5 MHz\n",
    "frequencies_uniform = np.linspace(1.6e6, 5.5e6, num_legs) + np.random.normal(0, 5e3, num_legs) # 1 sigma scatter of 5 kHz\n",
    "C_values_uniform = 1 / ((2 * np.pi * frequencies_uniform) ** 2 * L_value)\n",
    "bolocombA.C = C_values_uniform\n",
    "bolocombA.R = R_values\n",
    "bolocombB.C = C_values_uniform\n",
    "bolocombB.R = R_values\n",
    "\n",
    "bolocombA.Ls = 20e-9\n",
    "bolocombB.Ls = 40e-9\n",
    "\n",
    "z_thev1,_ = bolocombA.z_thev()\n",
    "z_thev2,_ = bolocombB.z_thev()\n",
    "\n",
    "fig, axs = plt.subplots(1, 2, figsize=(10, 5))\n",
    "\n",
    "axs[0].plot(frequencies_uniform/1e6, np.real(z_thev1), label='Original parameters')\n",
    "axs[0].plot(frequencies_uniform/1e6, np.real(z_thev2), label='Modified parameters')\n",
    "Rthev_target = 0.1*bolocombA.R[0]  # Target of 10% of R\n",
    "axs[0].plot(frequencies_uniform/1e6, np.ones_like(frequencies_uniform)*Rthev_target, label='Target')\n",
    "axs[0].set_xlabel('Frequency (MHz)')\n",
    "axs[0].legend()\n",
    "axs[0].set_title('Thévenin-equivalent series impedance')\n",
    "xtalk_target = 0.003 # Target of 0.3% as in PTEP\n",
    "xtalk1 = bolocombA.xtalk()\n",
    "xtalk2 = bolocombB.xtalk()\n",
    "axs[1].plot(frequencies_uniform[0:-1]/1e6, np.real(xtalk1), label='Original parameters')\n",
    "axs[1].plot(frequencies_uniform[0:-1]/1e6, np.real(xtalk2), label='Modified parameters')\n",
    "axs[1].plot(frequencies_uniform/1e6, np.ones_like(frequencies_uniform)*xtalk_target, 'green', label='Target')\n",
    "axs[1].plot(frequencies_uniform/1e6, np.ones_like(frequencies_uniform)*xtalk_target*-1, 'green')\n",
    "axs[1].set_xlabel('Frequency (MHz)')\n",
    "axs[1].legend()\n",
    "axs[1].set_title('Crosstalk')\n",
    "fig.tight_layout()"
   ]
  },
  {
   "attachments": {},
   "cell_type": "markdown",
   "id": "4e2db87d",
   "metadata": {},
   "source": [
    "### Monte Carlo: vary many parameters simultaneously\n",
    "\n",
    "Let's try varying many of the mux comb's parameters between limits that I consider somewhat reasonable / plausible."
   ]
  },
  {
   "cell_type": "code",
   "execution_count": null,
   "id": "ce12dbb2",
   "metadata": {},
   "outputs": [],
   "source": [
    "def random_bolocomb():\n",
    "    this_bolocomb = bolocomb()\n",
    "    num_legs = np.random.randint(58, 69) # number of LCR legs in the comb from 58 to 68 inclusive\n",
    "    R = np.random.uniform(0.4, 1.0)  # all the same resistance values\n",
    "    R_values = np.ones(num_legs) * R\n",
    "    R_scatter = np.random.uniform(0, 0.2) # 0-20% scatter \n",
    "    R_values += np.random.normal(0, R_scatter, num_legs) * R\n",
    "\n",
    "    # Inductance value (from the bolocomb class)\n",
    "    L_value = this_bolocomb.L\n",
    "\n",
    "    # Either choose log or linear uniform distribution of frequencies\n",
    "    is_log = np.random.choice([True,False])\n",
    "    min_frequency = np.random.uniform(1.6e6, 1.8e6)\n",
    "    max_frequency = np.random.uniform(5.0e6, 5.6e6)\n",
    "    frequency_scatter = np.random.uniform(1e3, 10e3) # scatter on the frequencies\n",
    "    if is_log:\n",
    "        frequencies = np.logspace(np.log10(min_frequency), np.log10(max_frequency), num_legs)\n",
    "    else:\n",
    "        frequencies = np.linspace(min_frequency, max_frequency, num_legs)\n",
    "    \n",
    "    frequencies += np.random.normal(0, frequency_scatter, num_legs)\n",
    "    C_values = 1 / ((2 * np.pi * frequencies) ** 2 * L_value)\n",
    "    this_bolocomb.C = C_values\n",
    "    this_bolocomb.R = R_values\n",
    "\n",
    "    this_bolocomb.Rs = np.random.exponential(0.005) # Stray series resistance in Ohms\n",
    "    this_bolocomb.Ls = np.random.exponential(20e-9) # Stray series inductance in Henries\n",
    "    this_bolocomb.Cpar = np.random.uniform(800e-12, 1500e-12) # Equivalent parasitic capacitance parallel to the comb in Farads\n",
    "    this_bolocomb.Rpar = np.random.uniform(20,25) # Equivalent parasitic resistance parallel to the comb in Ohms\n",
    "    this_bolocomb.Rbias = 0. # Bias resistor in Ohms, this is zero for LiteBIRD\n",
    "    this_bolocomb.Lbias = np.random.uniform(3.8,5) * 1e-9 # Bias inductance in Henries\n",
    "    return this_bolocomb"
   ]
  },
  {
   "cell_type": "code",
   "execution_count": null,
   "id": "68c79c2d",
   "metadata": {},
   "outputs": [],
   "source": [
    "plt.figure()\n",
    "num_combs = 100\n",
    "for i in range(num_combs):\n",
    "    this_bolocomb = random_bolocomb()\n",
    "    \n",
    "    Rthev_target = 0.05 # 50 mOhm requirement\n",
    "    z,_ = this_bolocomb.z_thev()\n",
    "    wh_max = np.argmax(np.abs(z))\n",
    "    z_thev = np.abs(z[wh_max])\n",
    "    pass_thev = z_thev < Rthev_target\n",
    "\n",
    "    xtalk_target = 3e-3\n",
    "    max_xtalk = np.max(np.abs(np.real(this_bolocomb.xtalk())))\n",
    "    pass_xtalk = max_xtalk < xtalk_target\n",
    "    \n",
    "    debug = True\n",
    "    \n",
    "    if pass_thev and pass_xtalk:\n",
    "        if debug:\n",
    "            print('😍😍 Both passed. The maximum Thévenin-equivalent series impedance was {} and the maximum in-phase crosstalk was {}'.format(z_thev,max_xtalk))\n",
    "        color = 'green'\n",
    "    elif pass_thev and not pass_xtalk:\n",
    "        if debug:\n",
    "            print('🤪 Failed because of xtalk. The maximum Thévenin-equivalent series impedance was {} and the maximum in-phase crosstalk was {}'.format(z_thev,max_xtalk))\n",
    "        color = 'orange'\n",
    "    elif not pass_thev and pass_xtalk:\n",
    "        if debug:\n",
    "            print('😵 Failed because of series impedance. The maximum Thévenin-equivalent series impedance was {} and the maximum in-phase crosstalk was {}'.format(z_thev,max_xtalk))\n",
    "        color = 'blue'\n",
    "    else: \n",
    "        if debug:\n",
    "            print('🤬🤬🤬🤬 Both failed. The maximum Thévenin-equivalent series impedance was {} and the maximum in-phase crosstalk was {}'.format(z_thev,max_xtalk))\n",
    "        color = 'red'\n",
    "\n",
    "    plt.plot(np.median(this_bolocomb.R), this_bolocomb.Ls*1e9, marker='o', markersize=10, color=color)\n",
    "legend_elements = [\n",
    "    Line2D([0], [0], marker='o', color='green', markersize=10, label='both passed'),\n",
    "    Line2D([0], [0], marker='o', color='orange', markersize=10, label='crosstalk failed'),\n",
    "    Line2D([0], [0], marker='o', color='blue', markersize=10, label='series impedance failed'),\n",
    "    Line2D([0], [0], marker='o', color='red', markersize=10, label='both failed'),\n",
    "]\n",
    "plt.legend(handles=legend_elements, loc='best')\n",
    "plt.xlabel('Operating Resistance ($\\Omega$)')\n",
    "plt.ylabel('Common Series Inductance (nH)')        \n",
    "plt.tight_layout()\n",
    "plt.show()"
   ]
  },
  {
   "cell_type": "code",
   "execution_count": null,
   "id": "987901c4",
   "metadata": {},
   "outputs": [],
   "source": []
  }
 ],
 "metadata": {
  "kernelspec": {
   "display_name": "Python 3.8.3 64-bit",
   "language": "python",
   "name": "python3"
  },
  "language_info": {
   "codemirror_mode": {
    "name": "ipython",
    "version": 3
   },
   "file_extension": ".py",
   "mimetype": "text/x-python",
   "name": "python",
   "nbconvert_exporter": "python",
   "pygments_lexer": "ipython3",
   "version": "3.8.3"
  },
  "vscode": {
   "interpreter": {
    "hash": "de5dde0964cfac2c2c0a6002ec7afe604676bd1a90f0baad289e4e652428912d"
   }
  }
 },
 "nbformat": 4,
 "nbformat_minor": 5
}
