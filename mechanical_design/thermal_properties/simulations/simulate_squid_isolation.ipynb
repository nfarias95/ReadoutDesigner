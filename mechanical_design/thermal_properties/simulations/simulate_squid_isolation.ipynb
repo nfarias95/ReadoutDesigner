{
 "cells": [
  {
   "cell_type": "code",
   "execution_count": 9,
   "metadata": {},
   "outputs": [],
   "source": [
    "import numpy as np\n",
    "import sys\n",
    "sys.path.insert(0, '..')\n",
    "sys.path.insert(0, '../../../')\n",
    "from core_thermal_equations import  get_dissipated_heat, CFRP, Kapton, Kapton2\n",
    "\n",
    "from matplotlib import pyplot as plt\n",
    "from plot_parameters import FONT, FIG_SIZE, LEGEND_SIZE, FONT_SIZE\n",
    "plt.rcParams[\"font.family\"] = FONT\n",
    "plt.rcParams.update({'font.size': FONT_SIZE})\n",
    "plt.rc('legend', fontsize=LEGEND_SIZE)    # legend fontsize"
   ]
  },
  {
   "cell_type": "code",
   "execution_count": 10,
   "metadata": {},
   "outputs": [],
   "source": [
    "T0 = 0.1#0.112 # first temperature stage, Kelvin\n",
    "T1 = 0.35#0.405 # second temperature stage, Kelvin  "
   ]
  },
  {
   "cell_type": "markdown",
   "metadata": {},
   "source": [
    "Simulate heat dissipation if Rigid-Flex PCB is used"
   ]
  },
  {
   "cell_type": "code",
   "execution_count": 11,
   "metadata": {},
   "outputs": [
    {
     "name": "stdout",
     "output_type": "stream",
     "text": [
      "Total allowed power per module [nW]:  15\n",
      "Allowed power [nW]:  5\n",
      "Dissipated power [nW]:  3.7147499999999996\n"
     ]
    }
   ],
   "source": [
    "flex_material = Kapton()\n",
    "flex_thick =  12.7e-6 # thickness\n",
    "flex_length = 25e-3 # m\n",
    "number_of_legs = 2 # number of \"legs\" that touch the rigid section\n",
    "flex_width = 10e-3 # m   \n",
    "flex_area = number_of_legs * flex_thick * flex_width\n",
    "\n",
    "flex_diss_power = get_dissipated_heat(T0, T1, flex_material, flex_area, flex_length)\n",
    "\n",
    "\n",
    "print(\"Total allowed power per module [nW]: \", 15)\n",
    "print(\"Allowed power [nW]: \", 5 )\n",
    "print(\"Dissipated power [nW]: \", flex_diss_power*1e9)"
   ]
  },
  {
   "cell_type": "code",
   "execution_count": 16,
   "metadata": {},
   "outputs": [
    {
     "name": "stdout",
     "output_type": "stream",
     "text": [
      "Total allowed power per module [nW]:  15\n",
      "Allowed power [nW]:  5\n",
      "Dissipated power [nW]:  3.7147499999999996\n",
      "1.1237864077669901\n",
      "0.9259999999999999\n"
     ]
    }
   ],
   "source": [
    "flex_material2 = Kapton()\n",
    "flex_thick2 =  flex_thick #10e-5 #12.7e-6 # thickness\n",
    "flex_length2 = 20.6e-3 # m\n",
    "number_of_legs2 = 4 # number of \"legs\" that touch the rigid section\n",
    "flex_width2 = 4.63e-3 # m   \n",
    "flex_area2 = number_of_legs2 * flex_thick2 * flex_width2\n",
    "\n",
    "flex_diss_power2 = get_dissipated_heat(T0, T1, flex_material2, flex_area2, flex_length2)\n",
    "\n",
    "\n",
    "print(\"Total allowed power per module [nW]: \", 15)\n",
    "print(\"Allowed power [nW]: \", 5 )\n",
    "print(\"Dissipated power [nW]: \", flex_diss_power*1e9)\n",
    "\n",
    "\n",
    "print(flex_diss_power2/flex_diss_power)\n",
    "print(flex_width2* number_of_legs2/ (flex_width* number_of_legs))"
   ]
  },
  {
   "cell_type": "markdown",
   "metadata": {},
   "source": [
    "Simulate Power Dissipation if CFRP is used"
   ]
  },
  {
   "cell_type": "code",
   "execution_count": 13,
   "metadata": {},
   "outputs": [
    {
     "name": "stdout",
     "output_type": "stream",
     "text": [
      "Total allowed power per module [nW]:  15\n",
      "Allowed power [nW]:  5\n",
      "Dissipated power [nW]:  13.360691697630985\n"
     ]
    }
   ],
   "source": [
    "# setup material properties\n",
    "cfrp = CFRP()\n",
    "cfrp_outer_diameter = 2.0e-3#0.75e-3 # m\n",
    "cfrp_inner_diameter = 1.75e-3 # m\n",
    "cfrp_length = 10e-2# m\n",
    "n_tubes = 6 # number of cfrp tubes in structure\n",
    "\n",
    "cfrp_area =n_tubes *  np.pi* ( (cfrp_outer_diameter/2)**2 - (cfrp_inner_diameter/2)**2)\n",
    "    \n",
    "# calculate dissipated power\n",
    "crfp_diss_power = get_dissipated_heat(T0, T1, cfrp, cfrp_area, cfrp_length)\n",
    "\n",
    "print(\"Total allowed power per module [nW]: \", 15)\n",
    "print(\"Allowed power [nW]: \", 5 )\n",
    "print(\"Dissipated power [nW]: \", crfp_diss_power*1e9)"
   ]
  }
 ],
 "metadata": {
  "kernelspec": {
   "display_name": "Python 3.8.3 64-bit",
   "language": "python",
   "name": "python3"
  },
  "language_info": {
   "codemirror_mode": {
    "name": "ipython",
    "version": 3
   },
   "file_extension": ".py",
   "mimetype": "text/x-python",
   "name": "python",
   "nbconvert_exporter": "python",
   "pygments_lexer": "ipython3",
   "version": "3.8.3"
  },
  "orig_nbformat": 4,
  "vscode": {
   "interpreter": {
    "hash": "de5dde0964cfac2c2c0a6002ec7afe604676bd1a90f0baad289e4e652428912d"
   }
  }
 },
 "nbformat": 4,
 "nbformat_minor": 2
}
